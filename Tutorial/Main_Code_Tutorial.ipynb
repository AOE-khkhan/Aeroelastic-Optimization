{
 "cells": [
  {
   "cell_type": "markdown",
   "metadata": {},
   "source": [
    "# MAIN CODE"
   ]
  },
  {
   "cell_type": "markdown",
   "metadata": {},
   "source": [
    "## GET READY TO START [guide](https://github.com/NitroCortex/Aeroelastic-Optimization/blob/master/Tutorial/Installation/README.md)\n",
    "* Python 2.x\n",
    "* OpenMDAO 1.7.3 ( use pip install to install the correct version)\n",
    "* Nastran95 \n",
    "* Panair \n",
    "* Aerostructures package  installed via pip install or putting the folder in the main folder)\n",
    "\n",
    "\n"
   ]
  },
  {
   "cell_type": "markdown",
   "metadata": {},
   "source": [
    "## MAIN SCRIPT"
   ]
  },
  {
   "cell_type": "markdown",
   "metadata": {},
   "source": [
    "### Modules Importing"
   ]
  },
  {
   "cell_type": "code",
   "execution_count": null,
   "metadata": {
    "collapsed": false
   },
   "outputs": [],
   "source": [
    "# -*- coding: utf-8 -*-\n",
    "\"\"\"\n",
    "Created on Tue Mar 29 10:50:10 2016\n",
    "\n",
    "@author: © a.iacono\n",
    "\"\"\"\n",
    "from __future__ import print_function\n",
    "\n",
    "from openmdao.api import Problem, Group, IndepVarComp, ScipyGMRES, SqliteRecorder, ExecComp, ScipyOptimizer, view_tree\n",
    "\n",
    "from aerostructures import NastranStatic, DisplacementTransfer, Panair, LoadTransfer,Aggregation, Interpolation,\\\n",
    "StaticStructureProblemDimensions, StaticStructureProblemParams, AeroProblemDimensions, AeroProblemParams, NLGaussSeidel\n",
    "\n",
    "import numpy as np"
   ]
  },
  {
   "cell_type": "markdown",
   "metadata": {},
   "source": [
    "### Definition of Specific Problem Parameters \n",
    "\n",
    "Note: To choose correctly the aggregation function parameters checking the [guide](https://github.com/NitroCortex/Aeroelastic-Optimization/blob/master/Tutorial/agrregation.ipynb)."
   ]
  },
  {
   "cell_type": "code",
   "execution_count": null,
   "metadata": {
    "collapsed": true
   },
   "outputs": [],
   "source": [
    "if __name__ == \"__main__\":\n",
    "\n",
    "    #Interpolation function type and setup\n",
    "    function_type = 'thin_plate'\n",
    "    bias = (1,50,1)\n",
    "\n",
    "    #Symmetry plane index\n",
    "    sym_plane_index = 1\n",
    "\n",
    "    #Problem parameters\n",
    "    Sw = 383.689555        # Wing Surface\n",
    "    V = 250.75             # Velocity\n",
    "    rho_a = 0.337          # Air Density\n",
    "    Mach = 0.85            # Flight MACH\n",
    "    alpha = 0.58465        # Starting Angle of Attack\n",
    "    b = 58.7629            # Wing Span\n",
    "    c = 7.00532            # Cord\n",
    "    E = 6.89e10            # Young Module\n",
    "    nu = 0.31              # Poisson Coefficient\n",
    "    rho_s = 2795.67        # Material Density\n",
    "    t_i_max=0.0125         # Upper Limit for Panel's Thickness\n",
    "    t_i_min=0.0018         # Lower Limit for Panel's Thickness\n",
    "    sigma_y = 5.033172e+08 # Yield Stress\n",
    "    W = 9.81*300000.       # Airplane Weight\n",
    "    function = 'Gksl'      # Aggregation Function\n",
    "    p=100.                 # Draw-Down Function\n",
    "    s0=40000000.0          # Reference Stress"
   ]
  },
  {
   "cell_type": "markdown",
   "metadata": {},
   "source": [
    "### Definition of Problem Dimensions:\n",
    "\n",
    "Note: To do this we are using some of the methods defined in the Aerostructures Package, in the relative guide is \n",
    "declared the meaning of each variables and how we determinate it.\n",
    "        "
   ]
  },
  {
   "cell_type": "code",
   "execution_count": null,
   "metadata": {
    "collapsed": false
   },
   "outputs": [],
   "source": [
    "    structure_problem_dimensions = StaticStructureProblemDimensions()\n",
    "    aero_problem_dimensions = AeroProblemDimensions()\n",
    "\n",
    "    ns = structure_problem_dimensions.ns\n",
    "    ns_all = structure_problem_dimensions.ns_all\n",
    "    node_id = structure_problem_dimensions.node_id\n",
    "    node_id_all = structure_problem_dimensions.node_id_all\n",
    "    n_stress = structure_problem_dimensions.n_stress\n",
    "    tn = structure_problem_dimensions.tn\n",
    "    mn = structure_problem_dimensions.mn\n",
    "\n",
    "    structure_problem_params = StaticStructureProblemParams(node_id, node_id_all)\n",
    "    aero_problem_params = AeroProblemParams()\n",
    "\n",
    "    na = aero_problem_dimensions.na\n",
    "    network_info = aero_problem_dimensions.network_info\n",
    "\n",
    "    node_coord = structure_problem_params.node_coord\n",
    "    node_coord_all = structure_problem_params.node_coord_all\n",
    "    t = structure_problem_params.t\n",
    "    m = structure_problem_params.m\n",
    "\n",
    "    apoints_coord = aero_problem_params.apoints_coord"
   ]
  },
  {
   "cell_type": "markdown",
   "metadata": {},
   "source": [
    "### Setting OpenMDAO Problem\n",
    "\n",
    "Note: Watch the link to [openMDAO presentation]( https://github.com/NitroCortex/Aeroelastic-Optimization/blob/master/Tutorial/Installation/openmdao.pdf)"
   ]
  },
  {
   "cell_type": "code",
   "execution_count": null,
   "metadata": {
    "collapsed": true
   },
   "outputs": [],
   "source": [
    "    top = Problem()\n",
    "    top.root = root = Group()"
   ]
  },
  {
   "cell_type": "markdown",
   "metadata": {},
   "source": [
    "If you want to used a gradient based optimization like SLSQP the gradient is obtained by finite difference. So you have to set the step because the default step make really little changes on the variables, and the 8 float architecture of nastran can't recognize this variation.\n"
   ]
  },
  {
   "cell_type": "code",
   "execution_count": null,
   "metadata": {
    "collapsed": true
   },
   "outputs": [],
   "source": [
    "#==============================================================================\n",
    "#     UNCOMMENT JUST FOR SLSQP OPTIMIZER\n",
    "#==============================================================================\n",
    "#     top.root.deriv_options['type'] = 'fd'\n",
    "#     top.root.deriv_options['step_size'] = 1.0e-1\n",
    "#=============================================================================="
   ]
  },
  {
   "cell_type": "markdown",
   "metadata": {},
   "source": [
    "Here we are defining the openMDAO variables as Independent Variables Component:"
   ]
  },
  {
   "cell_type": "code",
   "execution_count": null,
   "metadata": {
    "collapsed": false,
    "scrolled": true
   },
   "outputs": [],
   "source": [
    "    root.add('wing_area', IndepVarComp('Sw', Sw), promotes=['*'])\n",
    "    root.add('airspeed', IndepVarComp('V', V), promotes=['*'])\n",
    "    root.add('sigma_y', IndepVarComp('sigma_y', sigma_y), promotes=['*'])\n",
    "    root.add('stress_ref', IndepVarComp('s0', s0), promotes=['*'])\n",
    "    root.add('air_density', IndepVarComp('rho_a', rho_a), promotes=['*'])\n",
    "    root.add('Mach_number', IndepVarComp('Mach', Mach), promotes=['*'])\n",
    "    root.add('young_module', IndepVarComp('E', E), promotes=['*'])\n",
    "    root.add('tick_max',IndepVarComp('t_i_max',t_i_max),promotes=['*'])\n",
    "    root.add('t_min', IndepVarComp('t_i_min',t_i_min), promotes=['*'])\n",
    "    root.add('weight', IndepVarComp('W', W), promotes=['*'])\n",
    "    root.add('mat_density', IndepVarComp('rho_s', rho_s), promotes=['*'])\n",
    "    root.add('poisson', IndepVarComp('nu', nu), promotes=['*'])\n",
    "    root.add('angle_of_attack', IndepVarComp('alpha', 0.), promotes=['*'])\n",
    "    root.add('wing_span', IndepVarComp('b', b), promotes=['*'])\n",
    "    root.add('wing_chord', IndepVarComp('c', c), promotes=['*'])\n",
    "    root.add('s_coord', IndepVarComp('node_coord', node_coord), promotes=['*'])\n",
    "    root.add('s_coord_all', IndepVarComp('node_coord_all', node_coord_all), promotes=['*'])\n",
    "    root.add('thicknesses', IndepVarComp('t', t), promotes=['*'])\n",
    "    root.add('masses', IndepVarComp('m', m), promotes=['*'])\n",
    "    root.add('a_coord', IndepVarComp('apoints_coord', apoints_coord), promotes=['*'])"
   ]
  },
  {
   "cell_type": "markdown",
   "metadata": {},
   "source": [
    "Here we are adding the modules for the interpolation between aerodinamic and strucutural mesh, and the aggregation module, defined in the Aereostructures package:"
   ]
  },
  {
   "cell_type": "code",
   "execution_count": null,
   "metadata": {
    "collapsed": false
   },
   "outputs": [],
   "source": [
    "    root.add('inter', Interpolation(na, ns, function = function_type, bias = bias), promotes=['*'])\n",
    "    root.add('agrr', Aggregation(n_stress,p,function), promotes=['*'])\n",
    "    "
   ]
  },
  {
   "cell_type": "markdown",
   "metadata": {},
   "source": [
    "#### Creating the mda group for the convergence of aerodinamyc forces and structural displacement:\n"
   ]
  },
  {
   "cell_type": "code",
   "execution_count": null,
   "metadata": {
    "collapsed": false
   },
   "outputs": [],
   "source": [
    "    mda = Group()\n",
    "\n",
    "    #Add disciplines to the group\n",
    "    mda.add('displacement_transfer', DisplacementTransfer(na, ns), promotes=['*'])\n",
    "    mda.add('aerodynamics', Panair(na, network_info), promotes=['*'])\n",
    "    mda.add('load_transfer', LoadTransfer(na, ns), promotes=['*'])\n",
    "    mda.add('structures', NastranStatic(node_id, node_id_all, n_stress, tn, mn), promotes=['*'])"
   ]
  },
  {
   "cell_type": "markdown",
   "metadata": {},
   "source": [
    "#### Setting the mda solver type and settings:"
   ]
  },
  {
   "cell_type": "code",
   "execution_count": null,
   "metadata": {
    "collapsed": true
   },
   "outputs": [],
   "source": [
    "    mda.nl_solver = NLGaussSeidel()\n",
    "#    mda.nl_solver.options['rtol'] = 1.e-1\n",
    "    mda.nl_solver.options['maxiter'] = 15\n",
    "    mda.nl_solver.options['rutol'] = 1.e-2\n",
    "    mda.nl_solver.options['use_aitken'] = True\n",
    "    mda.nl_solver.options['aitken_alpha_min'] = 0.1\n",
    "    mda.nl_solver.options['aitken_alpha_max'] = 1.5"
   ]
  },
  {
   "cell_type": "markdown",
   "metadata": {},
   "source": [
    "Adding the mda cycle to the optimization group:"
   ]
  },
  {
   "cell_type": "code",
   "execution_count": null,
   "metadata": {
    "collapsed": false
   },
   "outputs": [],
   "source": [
    "    mda.ln_solver = ScipyGMRES()\n",
    "\n",
    "    root.add('mda_group', mda, promotes=['*'])"
   ]
  },
  {
   "cell_type": "code",
   "execution_count": null,
   "metadata": {
    "collapsed": true
   },
   "outputs": [],
   "source": [
    "#==============================================================================\n",
    "#      UNCOMMENT JUST FOR SLSQP OPTIMIZER\n",
    "#==============================================================================\n",
    "#==============================================================================\n",
    "#     top.root.mda_group.deriv_options['type'] = 'fd'\n",
    "#     top.root.mda_group.deriv_options['step_size'] = 1.0e-1\n",
    "#==============================================================================\n"
   ]
  },
  {
   "cell_type": "markdown",
   "metadata": {},
   "source": [
    "### Setting Recorder"
   ]
  },
  {
   "cell_type": "code",
   "execution_count": null,
   "metadata": {
    "collapsed": true
   },
   "outputs": [],
   "source": [
    "    recorder = SqliteRecorder('opti_g_55')       # In brackets the name of the database\n",
    "    recorder.options['record_params'] = False\n",
    "    recorder.options['record_metadata'] = False\n",
    "    recorder.options['record_resids'] = False\n",
    "    recorder.options['record_derivs'] = False\n",
    "    top.root.nl_solver.add_recorder(recorder)"
   ]
  },
  {
   "cell_type": "markdown",
   "metadata": {},
   "source": [
    "### Setting the Optimitazion "
   ]
  },
  {
   "cell_type": "markdown",
   "metadata": {
    "collapsed": true
   },
   "source": [
    "#### Defining solver type and the optimizer"
   ]
  },
  {
   "cell_type": "code",
   "execution_count": null,
   "metadata": {
    "collapsed": false
   },
   "outputs": [],
   "source": [
    "    root.ln_solver = ScipyGMRES()               # Solver type\n",
    "    top.driver = ScipyOptimizer()               # Adding Optmizer \n",
    "    top.driver.options['optimizer'] = 'COBYLA'  # Defining the optimizer and is settings\n",
    "    top.driver.options['disp'] = True           \n",
    "    top.driver.options['tol'] = 1.e-4\n",
    "    top.driver.options['maxiter'] = 500\n",
    "    top.driver.opt_settings['rhobeg']= 0.1      # USE JUST FOR COBYLA"
   ]
  },
  {
   "cell_type": "markdown",
   "metadata": {},
   "source": [
    "#### Defining objective and constraint functions"
   ]
  },
  {
   "cell_type": "code",
   "execution_count": null,
   "metadata": {
    "collapsed": false
   },
   "outputs": [],
   "source": [
    "    root.add('obj_function', ExecComp('obj_f = CDi'), promotes=['*'])                          # Minimize the CDi or the mass\n",
    "    root.add('con_lift', ExecComp('con_l = CL - W/(0.5*rho_a*V**2*Sw)'), promotes=['*'])       # Define constraint CL - W/q\n",
    "    root.add('con_stress', ExecComp('con_s = G - sigma_y'), promotes=['*'])                    # Define constraint G - sigma_y\n",
    "    t_max=0.01*np.ones(tn)\n",
    "    t_min=0.006*np.ones(tn)\n",
    "    for i in range(tn):\n",
    "        root.add('max_t_'+str(i+1),ExecComp('max_t_'+str(i+1)+' = t['+str(i)+'] - t_i_max',    # Define one constraint t_max and \n",
    "                                            t=np.zeros(tn,dtype=float)),promotes=['*'])        # t_min for each different \n",
    "        root.add('min_t_'+str(i+1),ExecComp('min_t_'+str(i+1)+' = t['+str(i)+'] - t_i_min',    # thickness section in the model\n",
    "                                            t=np.zeros(tn,dtype=float)),promotes=['*'])"
   ]
  },
  {
   "cell_type": "markdown",
   "metadata": {
    "collapsed": true
   },
   "source": [
    "#### Setting objective, design variables and constraint "
   ]
  },
  {
   "cell_type": "code",
   "execution_count": null,
   "metadata": {
    "collapsed": true
   },
   "outputs": [],
   "source": [
    "    top.driver.add_objective('obj_f')\n",
    "    \n",
    "    alpha_max=10.\n",
    "    alpha_min=0.\n",
    "    \n",
    "    top.driver.add_desvar('alpha', lower=alpha_min, upper=alpha_max, adder=-alpha_min, scaler=1/(alpha_max-alpha_min))\n",
    "    top.driver.add_desvar('t', lower=t_min, upper=t_max, adder=-t_min, scaler=1/(t_max-t_min))\n",
    "    \n",
    "    top.driver.add_constraint('con_l', lower=0.) \n",
    "    top.driver.add_constraint('con_s', upper=0.) \n",
    "    for i in range(tn):\n",
    "        top.driver.add_constraint('max_t_'+str(i+1),upper=0.,scaler=1/t_i_max)\n",
    "        top.driver.add_constraint('min_t_'+str(i+1),lower=0.,scaler=1/t_i_min)"
   ]
  },
  {
   "cell_type": "markdown",
   "metadata": {},
   "source": [
    "As u can see we have created one constraint for each different thickness section, but for the stress constraint we just created one constraint using the aggregation function, that is representative of the max value of the stress for each iteration."
   ]
  },
  {
   "cell_type": "markdown",
   "metadata": {},
   "source": [
    "#### Setup Problem and Run It"
   ]
  },
  {
   "cell_type": "code",
   "execution_count": null,
   "metadata": {
    "collapsed": false
   },
   "outputs": [],
   "source": [
    "    top.setup()\n",
    "    \n",
    "    view_tree(top, show_browser=False)\n",
    "    \n",
    "    top.run()\n",
    "    top.cleanup()"
   ]
  },
  {
   "cell_type": "markdown",
   "metadata": {},
   "source": [
    "### Access to the Results"
   ]
  },
  {
   "cell_type": "markdown",
   "metadata": {},
   "source": [
    "As output in the console there is the last value for the angle of attack and for the vector of thickness.\n",
    "\n",
    "To see how the variables change until the process You have to access at the database created from the recorder modules.\n",
    "To read it you should use a pyhton script, in the [guide](https://github.com/NitroCortex/Aeroelastic-Optimization/blob/master/Tutorial/access_results.ipynb) relative to how access result there is an example of reader script that produce some plots relative to the optimization process."
   ]
  }
 ],
 "metadata": {
  "anaconda-cloud": {},
  "kernelspec": {
   "display_name": "Python [Anaconda2]",
   "language": "python",
   "name": "Python [Anaconda2]"
  },
  "language_info": {
   "codemirror_mode": {
    "name": "ipython",
    "version": 2
   },
   "file_extension": ".py",
   "mimetype": "text/x-python",
   "name": "python",
   "nbconvert_exporter": "python",
   "pygments_lexer": "ipython2",
   "version": "2.7.11"
  }
 },
 "nbformat": 4,
 "nbformat_minor": 2
}
