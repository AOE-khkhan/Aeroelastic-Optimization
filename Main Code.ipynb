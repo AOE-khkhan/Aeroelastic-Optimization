{
 "cells": [
  {
   "cell_type": "markdown",
   "metadata": {},
   "source": [
    "# MAIN CODE"
   ]
  },
  {
   "cell_type": "markdown",
   "metadata": {},
   "source": [
    "## GET READY TO START\n",
    "* Python 2.x\n",
    "* OpenMDAO 1.7.3 ( use pip install to install the correct version)\n",
    "* Nastran95 ( see guide, need link)\n",
    "* Panair ( link)\n",
    "* Aerostructures package  installed via pip install or putting the folder in the main folder)\n",
    "\n",
    "\n"
   ]
  },
  {
   "cell_type": "markdown",
   "metadata": {},
   "source": [
    "## MAIN SCRIPT"
   ]
  },
  {
   "cell_type": "markdown",
   "metadata": {},
   "source": [
    "### Modules Impoirting"
   ]
  },
  {
   "cell_type": "code",
   "execution_count": 3,
   "metadata": {
    "collapsed": false
   },
   "outputs": [],
   "source": [
    "# -*- coding: utf-8 -*-\n",
    "\"\"\"\n",
    "Created on Tue Mar 29 10:50:10 2016\n",
    "\n",
    "@author: © a.iacono\n",
    "\"\"\"\n",
    "from __future__ import print_function\n",
    "\n",
    "from openmdao.api import Problem, Group, IndepVarComp, ScipyGMRES, SqliteRecorder, ExecComp, ScipyOptimizer, view_tree\n",
    "\n",
    "from aerostructures import NastranStatic, DisplacementTransfer, Panair, LoadTransfer,Aggregation, Interpolation,\\\n",
    "StaticStructureProblemDimensions, StaticStructureProblemParams, AeroProblemDimensions, AeroProblemParams, NLGaussSeidel\n",
    "\n",
    "import numpy as np"
   ]
  },
  {
   "cell_type": "markdown",
   "metadata": {},
   "source": [
    "### Definition of Specific Problem Parameters \n",
    "\n",
    "Note: To choose correctly the aggregation function parameters checking the guide ( link da mettere)."
   ]
  },
  {
   "cell_type": "code",
   "execution_count": 4,
   "metadata": {
    "collapsed": true
   },
   "outputs": [],
   "source": [
    "if __name__ == \"__main__\":\n",
    "\n",
    "    #Interpolation function type and setup\n",
    "    function_type = 'thin_plate'\n",
    "    bias = (1,50,1)\n",
    "\n",
    "    #Symmetry plane index\n",
    "    sym_plane_index = 1\n",
    "\n",
    "    #Problem parameters\n",
    "    Sw = 383.689555        # Wing Surface\n",
    "    V = 250.75             # Velocity\n",
    "    rho_a = 0.337          # Air Density\n",
    "    Mach = 0.85            # Flight MACH\n",
    "    alpha = 0.58465        # Starting Angle of Attack\n",
    "    b = 58.7629            # Wing Span\n",
    "    c = 7.00532            # Cord\n",
    "    E = 6.89e10            # Young Module\n",
    "    nu = 0.31              # Poisson Coefficient\n",
    "    rho_s = 2795.67        # Material Density\n",
    "    t_i_max=0.0125         # Upper Limit for Panel's Thickness\n",
    "    t_i_min=0.0018         # Lower Limit for Panel's Thickness\n",
    "    sigma_y = 5.033172e+08 # Yield Stress\n",
    "    W = 9.81*300000.       # Airplane Weight\n",
    "    function = 'Gksl'      # Aggregation Function\n",
    "    p=100.                 # Draw-Down Function\n",
    "    s0=40000000.0          # Reference Stress"
   ]
  },
  {
   "cell_type": "markdown",
   "metadata": {},
   "source": [
    "### Definition of Problem Dimensions:\n",
    "\n",
    "Note: To do this we are using some of the methods defined in the Aerostructures Package, in the relative guide (link) is \n",
    "declared the meaning of each variables and how we determinate it.\n",
    "        "
   ]
  },
  {
   "cell_type": "code",
   "execution_count": 5,
   "metadata": {
    "collapsed": false
   },
   "outputs": [],
   "source": [
    "    structure_problem_dimensions = StaticStructureProblemDimensions()\n",
    "    aero_problem_dimensions = AeroProblemDimensions()\n",
    "\n",
    "    ns = structure_problem_dimensions.ns\n",
    "    ns_all = structure_problem_dimensions.ns_all\n",
    "    node_id = structure_problem_dimensions.node_id\n",
    "    node_id_all = structure_problem_dimensions.node_id_all\n",
    "    n_stress = structure_problem_dimensions.n_stress\n",
    "    tn = structure_problem_dimensions.tn\n",
    "    mn = structure_problem_dimensions.mn\n",
    "\n",
    "    structure_problem_params = StaticStructureProblemParams(node_id, node_id_all)\n",
    "    aero_problem_params = AeroProblemParams()\n",
    "\n",
    "    na = aero_problem_dimensions.na\n",
    "    network_info = aero_problem_dimensions.network_info\n",
    "\n",
    "    node_coord = structure_problem_params.node_coord\n",
    "    node_coord_all = structure_problem_params.node_coord_all\n",
    "    t = structure_problem_params.t\n",
    "    m = structure_problem_params.m\n",
    "\n",
    "    apoints_coord = aero_problem_params.apoints_coord"
   ]
  },
  {
   "cell_type": "markdown",
   "metadata": {},
   "source": [
    "### Setting OpenMDAO Problem\n",
    "\n",
    "Note: Watch the link to openMDAO presentation ( link)"
   ]
  },
  {
   "cell_type": "code",
   "execution_count": 6,
   "metadata": {
    "collapsed": true
   },
   "outputs": [],
   "source": [
    "    top = Problem()\n",
    "    top.root = root = Group()"
   ]
  },
  {
   "cell_type": "markdown",
   "metadata": {},
   "source": [
    "If you want to used a gradient based optimization like SLSQP the gradient is obtained by finite difference. So you have to set the step because the default step make really little changes on the variables, and the 8 float architecture of nastran can't recognize this variation.\n"
   ]
  },
  {
   "cell_type": "code",
   "execution_count": 7,
   "metadata": {
    "collapsed": true
   },
   "outputs": [],
   "source": [
    "#==============================================================================\n",
    "#     UNCOMMENT JUST FOR SLSQP OPTIMIZER\n",
    "#==============================================================================\n",
    "#     top.root.deriv_options['type'] = 'fd'\n",
    "#     top.root.deriv_options['step_size'] = 1.0e-1\n",
    "#=============================================================================="
   ]
  },
  {
   "cell_type": "markdown",
   "metadata": {},
   "source": [
    "Here we are defining the openMDAO variables as Independent Variables Component:"
   ]
  },
  {
   "cell_type": "code",
   "execution_count": 8,
   "metadata": {
    "collapsed": false,
    "scrolled": true
   },
   "outputs": [
    {
     "data": {
      "text/plain": [
       "<openmdao.components.indep_var_comp.IndepVarComp at 0x90a7668>"
      ]
     },
     "execution_count": 8,
     "metadata": {},
     "output_type": "execute_result"
    }
   ],
   "source": [
    "    root.add('wing_area', IndepVarComp('Sw', Sw), promotes=['*'])\n",
    "    root.add('airspeed', IndepVarComp('V', V), promotes=['*'])\n",
    "    root.add('sigma_y', IndepVarComp('sigma_y', sigma_y), promotes=['*'])\n",
    "    root.add('stress_ref', IndepVarComp('s0', s0), promotes=['*'])\n",
    "    root.add('air_density', IndepVarComp('rho_a', rho_a), promotes=['*'])\n",
    "    root.add('Mach_number', IndepVarComp('Mach', Mach), promotes=['*'])\n",
    "    root.add('young_module', IndepVarComp('E', E), promotes=['*'])\n",
    "    root.add('tick_max',IndepVarComp('t_i_max',t_i_max),promotes=['*'])\n",
    "    root.add('t_min', IndepVarComp('t_i_min',t_i_min), promotes=['*'])\n",
    "    root.add('weight', IndepVarComp('W', W), promotes=['*'])\n",
    "    root.add('mat_density', IndepVarComp('rho_s', rho_s), promotes=['*'])\n",
    "    root.add('poisson', IndepVarComp('nu', nu), promotes=['*'])\n",
    "    root.add('angle_of_attack', IndepVarComp('alpha', 0.), promotes=['*'])\n",
    "    root.add('wing_span', IndepVarComp('b', b), promotes=['*'])\n",
    "    root.add('wing_chord', IndepVarComp('c', c), promotes=['*'])\n",
    "    root.add('s_coord', IndepVarComp('node_coord', node_coord), promotes=['*'])\n",
    "    root.add('s_coord_all', IndepVarComp('node_coord_all', node_coord_all), promotes=['*'])\n",
    "    root.add('thicknesses', IndepVarComp('t', t), promotes=['*'])\n",
    "    root.add('masses', IndepVarComp('m', m), promotes=['*'])\n",
    "    root.add('a_coord', IndepVarComp('apoints_coord', apoints_coord), promotes=['*'])"
   ]
  },
  {
   "cell_type": "markdown",
   "metadata": {},
   "source": [
    "Here we are adding the modules for the interpolation between aerodinamic and strucutural mesh, and the aggregation module, defined in the Aereostructures package:"
   ]
  },
  {
   "cell_type": "code",
   "execution_count": 9,
   "metadata": {
    "collapsed": false
   },
   "outputs": [
    {
     "data": {
      "text/plain": [
       "<aerostructures.data_transfer.aggregation.Aggregation at 0x91c2208>"
      ]
     },
     "execution_count": 9,
     "metadata": {},
     "output_type": "execute_result"
    }
   ],
   "source": [
    "    root.add('inter', Interpolation(na, ns, function = function_type, bias = bias), promotes=['*'])\n",
    "    root.add('agrr', Aggregation(n_stress,p,function), promotes=['*'])\n",
    "    "
   ]
  },
  {
   "cell_type": "markdown",
   "metadata": {},
   "source": [
    "#### Creating the mda group for the convergence of aerodinamyc forces and structural displacement:\n"
   ]
  },
  {
   "cell_type": "code",
   "execution_count": 10,
   "metadata": {
    "collapsed": false
   },
   "outputs": [
    {
     "data": {
      "text/plain": [
       "<aerostructures.structures_static.nastran_static.NastranStatic at 0x3dbdf98>"
      ]
     },
     "execution_count": 10,
     "metadata": {},
     "output_type": "execute_result"
    }
   ],
   "source": [
    "    mda = Group()\n",
    "\n",
    "    #Add disciplines to the group\n",
    "    mda.add('displacement_transfer', DisplacementTransfer(na, ns), promotes=['*'])\n",
    "    mda.add('aerodynamics', Panair(na, network_info), promotes=['*'])\n",
    "    mda.add('load_transfer', LoadTransfer(na, ns), promotes=['*'])\n",
    "    mda.add('structures', NastranStatic(node_id, node_id_all, n_stress, tn, mn), promotes=['*'])"
   ]
  },
  {
   "cell_type": "markdown",
   "metadata": {},
   "source": [
    "#### Setting the mda solver type and settings:"
   ]
  },
  {
   "cell_type": "code",
   "execution_count": 11,
   "metadata": {
    "collapsed": true
   },
   "outputs": [],
   "source": [
    "    mda.nl_solver = NLGaussSeidel()\n",
    "#    mda.nl_solver.options['rtol'] = 1.e-1\n",
    "    mda.nl_solver.options['maxiter'] = 15\n",
    "    mda.nl_solver.options['rutol'] = 1.e-2\n",
    "    mda.nl_solver.options['use_aitken'] = True\n",
    "    mda.nl_solver.options['aitken_alpha_min'] = 0.1\n",
    "    mda.nl_solver.options['aitken_alpha_max'] = 1.5"
   ]
  },
  {
   "cell_type": "markdown",
   "metadata": {},
   "source": [
    "Adding the mda cycle to the optimization group:"
   ]
  },
  {
   "cell_type": "code",
   "execution_count": 12,
   "metadata": {
    "collapsed": false
   },
   "outputs": [
    {
     "data": {
      "text/plain": [
       "<openmdao.core.group.Group at 0x91c2c88>"
      ]
     },
     "execution_count": 12,
     "metadata": {},
     "output_type": "execute_result"
    }
   ],
   "source": [
    "    mda.ln_solver = ScipyGMRES()\n",
    "\n",
    "    root.add('mda_group', mda, promotes=['*'])"
   ]
  },
  {
   "cell_type": "code",
   "execution_count": 13,
   "metadata": {
    "collapsed": true
   },
   "outputs": [],
   "source": [
    "#==============================================================================\n",
    "#      UNCOMMENT JUST FOR SLSQP OPTIMIZER\n",
    "#==============================================================================\n",
    "#==============================================================================\n",
    "#     top.root.mda_group.deriv_options['type'] = 'fd'\n",
    "#     top.root.mda_group.deriv_options['step_size'] = 1.0e-1\n",
    "#==============================================================================\n"
   ]
  },
  {
   "cell_type": "markdown",
   "metadata": {},
   "source": [
    "### Setting Recorder"
   ]
  },
  {
   "cell_type": "code",
   "execution_count": 14,
   "metadata": {
    "collapsed": true
   },
   "outputs": [],
   "source": [
    "    recorder = SqliteRecorder('opti_g_55')       # In brackets the name of the database\n",
    "    recorder.options['record_params'] = False\n",
    "    recorder.options['record_metadata'] = False\n",
    "    recorder.options['record_resids'] = False\n",
    "    recorder.options['record_derivs'] = False\n",
    "    top.root.nl_solver.add_recorder(recorder)"
   ]
  },
  {
   "cell_type": "markdown",
   "metadata": {},
   "source": [
    "### Setting the Optimitazion "
   ]
  },
  {
   "cell_type": "markdown",
   "metadata": {
    "collapsed": true
   },
   "source": [
    "#### Defining solver type and the optimizer"
   ]
  },
  {
   "cell_type": "code",
   "execution_count": 15,
   "metadata": {
    "collapsed": false
   },
   "outputs": [],
   "source": [
    "    root.ln_solver = ScipyGMRES()               # Solver type\n",
    "    top.driver = ScipyOptimizer()               # Adding Optmizer \n",
    "    top.driver.options['optimizer'] = 'COBYLA'  # Defining the optimizer and is settings\n",
    "    top.driver.options['disp'] = True           \n",
    "    top.driver.options['tol'] = 1.e-4\n",
    "    top.driver.options['maxiter'] = 500\n",
    "    top.driver.opt_settings['rhobeg']= 0.1      # USE JUST FOR COBYLA"
   ]
  },
  {
   "cell_type": "markdown",
   "metadata": {},
   "source": [
    "#### Defining objective and constraint functions"
   ]
  },
  {
   "cell_type": "code",
   "execution_count": 16,
   "metadata": {
    "collapsed": false
   },
   "outputs": [],
   "source": [
    "    root.add('obj_function', ExecComp('obj_f = CDi'), promotes=['*'])                          # Minimize the CDi or the mass\n",
    "    root.add('con_lift', ExecComp('con_l = CL - W/(0.5*rho_a*V**2*Sw)'), promotes=['*'])       # Define constraint CL - W/q\n",
    "    root.add('con_stress', ExecComp('con_s = G - sigma_y'), promotes=['*'])                    # Define constraint G - sigma_y\n",
    "    t_max=0.01*np.ones(tn)\n",
    "    t_min=0.006*np.ones(tn)\n",
    "    for i in range(tn):\n",
    "        root.add('max_t_'+str(i+1),ExecComp('max_t_'+str(i+1)+' = t['+str(i)+'] - t_i_max',    # Define one constraint t_max and \n",
    "                                            t=np.zeros(tn,dtype=float)),promotes=['*'])        # t_min for each different \n",
    "        root.add('min_t_'+str(i+1),ExecComp('min_t_'+str(i+1)+' = t['+str(i)+'] - t_i_min',    # thickness section in the model\n",
    "                                            t=np.zeros(tn,dtype=float)),promotes=['*'])"
   ]
  },
  {
   "cell_type": "markdown",
   "metadata": {
    "collapsed": true
   },
   "source": [
    "#### Setting objective, design variables and constraint "
   ]
  },
  {
   "cell_type": "code",
   "execution_count": 17,
   "metadata": {
    "collapsed": true
   },
   "outputs": [],
   "source": [
    "    top.driver.add_objective('obj_f')\n",
    "    \n",
    "    alpha_max=10.\n",
    "    alpha_min=0.\n",
    "    \n",
    "    top.driver.add_desvar('alpha', lower=alpha_min, upper=alpha_max, adder=-alpha_min, scaler=1/(alpha_max-alpha_min))\n",
    "    top.driver.add_desvar('t', lower=t_min, upper=t_max, adder=-t_min, scaler=1/(t_max-t_min))\n",
    "    \n",
    "    top.driver.add_constraint('con_l', lower=0.) \n",
    "    top.driver.add_constraint('con_s', upper=0.) \n",
    "    for i in range(tn):\n",
    "        top.driver.add_constraint('max_t_'+str(i+1),upper=0.,scaler=1/t_i_max)\n",
    "        top.driver.add_constraint('min_t_'+str(i+1),lower=0.,scaler=1/t_i_min)"
   ]
  },
  {
   "cell_type": "markdown",
   "metadata": {},
   "source": [
    "As u can see we have created one constraint for each different thickness section, but for the stress constraint we just created one constraint using the aggregation function, that is representative of the max value of the stress for each iteration."
   ]
  },
  {
   "cell_type": "markdown",
   "metadata": {},
   "source": [
    "#### Setup Problem and Run It"
   ]
  },
  {
   "cell_type": "code",
   "execution_count": 18,
   "metadata": {
    "collapsed": false
   },
   "outputs": [
    {
     "name": "stdout",
     "output_type": "stream",
     "text": [
      "##############################################\n",
      "Setup: Checking root problem for potential issues...\n",
      "Group 'mda_group' has the following cycles: [['aerodynamics', 'load_transfer', 'structures', 'displacement_transfer']]\n",
      "\n",
      "The following params are connected to unknowns that are updated out of order, so their initial values may contain uninitialized unknown values: ['mda_group.aerodynamics.delta']\n",
      "\n",
      "Setup: Check of root problem complete.\n",
      "##############################################\n",
      "\n"
     ]
    },
    {
     "name": "stderr",
     "output_type": "stream",
     "text": [
      "C:\\Anaconda2\\lib\\site-packages\\ipykernel\\__main__.py:3: DeprecationWarning: view_tree is deprecated. Please switch to view_model.\n",
      "  app.launch_new_instance()\n",
      "aerostructures\\data_transfer\\rbf_poly_bias.py:95: RuntimeWarning: divide by zero encountered in log\n",
      "  result = r**2 * log(r)\n",
      "aerostructures\\data_transfer\\rbf_poly_bias.py:95: RuntimeWarning: invalid value encountered in multiply\n",
      "  result = r**2 * log(r)\n"
     ]
    },
    {
     "name": "stdout",
     "output_type": "stream",
     "text": [
      "0.0\n",
      "0.0\n",
      "0.0\n",
      "0.0\n",
      "0.0\n",
      "0.0\n"
     ]
    },
    {
     "ename": "KeyboardInterrupt",
     "evalue": "",
     "output_type": "error",
     "traceback": [
      "\u001b[1;31m---------------------------------------------------------------------------\u001b[0m",
      "\u001b[1;31mKeyboardInterrupt\u001b[0m                         Traceback (most recent call last)",
      "\u001b[1;32m<ipython-input-18-723af198f7a0>\u001b[0m in \u001b[0;36m<module>\u001b[1;34m()\u001b[0m\n\u001b[0;32m      3\u001b[0m \u001b[0mview_tree\u001b[0m\u001b[1;33m(\u001b[0m\u001b[0mtop\u001b[0m\u001b[1;33m,\u001b[0m \u001b[0mshow_browser\u001b[0m\u001b[1;33m=\u001b[0m\u001b[0mFalse\u001b[0m\u001b[1;33m)\u001b[0m\u001b[1;33m\u001b[0m\u001b[0m\n\u001b[0;32m      4\u001b[0m \u001b[1;33m\u001b[0m\u001b[0m\n\u001b[1;32m----> 5\u001b[1;33m \u001b[0mtop\u001b[0m\u001b[1;33m.\u001b[0m\u001b[0mrun\u001b[0m\u001b[1;33m(\u001b[0m\u001b[1;33m)\u001b[0m\u001b[1;33m\u001b[0m\u001b[0m\n\u001b[0m\u001b[0;32m      6\u001b[0m \u001b[0mtop\u001b[0m\u001b[1;33m.\u001b[0m\u001b[0mcleanup\u001b[0m\u001b[1;33m(\u001b[0m\u001b[1;33m)\u001b[0m\u001b[1;33m\u001b[0m\u001b[0m\n",
      "\u001b[1;32mC:\\Anaconda2\\lib\\site-packages\\openmdao\\core\\problem.pyc\u001b[0m in \u001b[0;36mrun\u001b[1;34m(self)\u001b[0m\n\u001b[0;32m   1149\u001b[0m         \u001b[0mself\u001b[0m\u001b[1;33m.\u001b[0m\u001b[0mpre_run_check\u001b[0m\u001b[1;33m(\u001b[0m\u001b[1;33m)\u001b[0m\u001b[1;33m\u001b[0m\u001b[0m\n\u001b[0;32m   1150\u001b[0m         \u001b[1;32mif\u001b[0m \u001b[0mself\u001b[0m\u001b[1;33m.\u001b[0m\u001b[0mroot\u001b[0m\u001b[1;33m.\u001b[0m\u001b[0mis_active\u001b[0m\u001b[1;33m(\u001b[0m\u001b[1;33m)\u001b[0m\u001b[1;33m:\u001b[0m\u001b[1;33m\u001b[0m\u001b[0m\n\u001b[1;32m-> 1151\u001b[1;33m             \u001b[0mself\u001b[0m\u001b[1;33m.\u001b[0m\u001b[0mdriver\u001b[0m\u001b[1;33m.\u001b[0m\u001b[0mrun\u001b[0m\u001b[1;33m(\u001b[0m\u001b[0mself\u001b[0m\u001b[1;33m)\u001b[0m\u001b[1;33m\u001b[0m\u001b[0m\n\u001b[0m\u001b[0;32m   1152\u001b[0m \u001b[1;33m\u001b[0m\u001b[0m\n\u001b[0;32m   1153\u001b[0m             \u001b[1;31m# if we're running under MPI, ensure that all of the processes\u001b[0m\u001b[1;33m\u001b[0m\u001b[1;33m\u001b[0m\u001b[0m\n",
      "\u001b[1;32mC:\\Anaconda2\\lib\\site-packages\\openmdao\\drivers\\scipy_optimizer.pyc\u001b[0m in \u001b[0;36mrun\u001b[1;34m(self, problem)\u001b[0m\n\u001b[0;32m    109\u001b[0m         \u001b[1;31m# Initial Run\u001b[0m\u001b[1;33m\u001b[0m\u001b[1;33m\u001b[0m\u001b[0m\n\u001b[0;32m    110\u001b[0m         \u001b[1;32mwith\u001b[0m \u001b[0mproblem\u001b[0m\u001b[1;33m.\u001b[0m\u001b[0mroot\u001b[0m\u001b[1;33m.\u001b[0m\u001b[0m_dircontext\u001b[0m\u001b[1;33m:\u001b[0m\u001b[1;33m\u001b[0m\u001b[0m\n\u001b[1;32m--> 111\u001b[1;33m             \u001b[0mproblem\u001b[0m\u001b[1;33m.\u001b[0m\u001b[0mroot\u001b[0m\u001b[1;33m.\u001b[0m\u001b[0msolve_nonlinear\u001b[0m\u001b[1;33m(\u001b[0m\u001b[0mmetadata\u001b[0m\u001b[1;33m=\u001b[0m\u001b[0mself\u001b[0m\u001b[1;33m.\u001b[0m\u001b[0mmetadata\u001b[0m\u001b[1;33m)\u001b[0m\u001b[1;33m\u001b[0m\u001b[0m\n\u001b[0m\u001b[0;32m    112\u001b[0m \u001b[1;33m\u001b[0m\u001b[0m\n\u001b[0;32m    113\u001b[0m         \u001b[0mpmeta\u001b[0m \u001b[1;33m=\u001b[0m \u001b[0mself\u001b[0m\u001b[1;33m.\u001b[0m\u001b[0mget_desvar_metadata\u001b[0m\u001b[1;33m(\u001b[0m\u001b[1;33m)\u001b[0m\u001b[1;33m\u001b[0m\u001b[0m\n",
      "\u001b[1;32mC:\\Anaconda2\\lib\\site-packages\\openmdao\\core\\group.pyc\u001b[0m in \u001b[0;36msolve_nonlinear\u001b[1;34m(self, params, unknowns, resids, metadata)\u001b[0m\n\u001b[0;32m    737\u001b[0m             \u001b[0mresids\u001b[0m \u001b[1;33m=\u001b[0m \u001b[0mresids\u001b[0m \u001b[1;32mif\u001b[0m \u001b[0mresids\u001b[0m \u001b[1;32mis\u001b[0m \u001b[1;32mnot\u001b[0m \u001b[0mNone\u001b[0m \u001b[1;32melse\u001b[0m \u001b[0mself\u001b[0m\u001b[1;33m.\u001b[0m\u001b[0mresids\u001b[0m\u001b[1;33m\u001b[0m\u001b[0m\n\u001b[0;32m    738\u001b[0m \u001b[1;33m\u001b[0m\u001b[0m\n\u001b[1;32m--> 739\u001b[1;33m             \u001b[0mself\u001b[0m\u001b[1;33m.\u001b[0m\u001b[0mnl_solver\u001b[0m\u001b[1;33m.\u001b[0m\u001b[0msolve\u001b[0m\u001b[1;33m(\u001b[0m\u001b[0mparams\u001b[0m\u001b[1;33m,\u001b[0m \u001b[0munknowns\u001b[0m\u001b[1;33m,\u001b[0m \u001b[0mresids\u001b[0m\u001b[1;33m,\u001b[0m \u001b[0mself\u001b[0m\u001b[1;33m,\u001b[0m \u001b[0mmetadata\u001b[0m\u001b[1;33m)\u001b[0m\u001b[1;33m\u001b[0m\u001b[0m\n\u001b[0m\u001b[0;32m    740\u001b[0m \u001b[1;33m\u001b[0m\u001b[0m\n\u001b[0;32m    741\u001b[0m     \u001b[1;32mdef\u001b[0m \u001b[0mchildren_solve_nonlinear\u001b[0m\u001b[1;33m(\u001b[0m\u001b[0mself\u001b[0m\u001b[1;33m,\u001b[0m \u001b[0mmetadata\u001b[0m\u001b[1;33m)\u001b[0m\u001b[1;33m:\u001b[0m\u001b[1;33m\u001b[0m\u001b[0m\n",
      "\u001b[1;32mC:\\Anaconda2\\lib\\site-packages\\openmdao\\solvers\\solver_base.pyc\u001b[0m in \u001b[0;36mwrapper\u001b[1;34m(driver, params, unknowns, resids, system, metadata)\u001b[0m\n\u001b[0;32m     21\u001b[0m \u001b[1;33m\u001b[0m\u001b[0m\n\u001b[0;32m     22\u001b[0m         \u001b[1;32mtry\u001b[0m\u001b[1;33m:\u001b[0m\u001b[1;33m\u001b[0m\u001b[0m\n\u001b[1;32m---> 23\u001b[1;33m             \u001b[0mfn\u001b[0m\u001b[1;33m(\u001b[0m\u001b[0mdriver\u001b[0m\u001b[1;33m,\u001b[0m \u001b[0mparams\u001b[0m\u001b[1;33m,\u001b[0m \u001b[0munknowns\u001b[0m\u001b[1;33m,\u001b[0m \u001b[0mresids\u001b[0m\u001b[1;33m,\u001b[0m \u001b[0msystem\u001b[0m\u001b[1;33m,\u001b[0m \u001b[0mmetadata\u001b[0m\u001b[1;33m)\u001b[0m\u001b[1;33m\u001b[0m\u001b[0m\n\u001b[0m\u001b[0;32m     24\u001b[0m         \u001b[1;32mexcept\u001b[0m \u001b[0mFloatingPointError\u001b[0m \u001b[1;32mas\u001b[0m \u001b[0merr\u001b[0m\u001b[1;33m:\u001b[0m\u001b[1;33m\u001b[0m\u001b[0m\n\u001b[0;32m     25\u001b[0m             \u001b[0mexc_info\u001b[0m \u001b[1;33m=\u001b[0m \u001b[0msys\u001b[0m\u001b[1;33m.\u001b[0m\u001b[0mexc_info\u001b[0m\u001b[1;33m(\u001b[0m\u001b[1;33m)\u001b[0m\u001b[1;33m\u001b[0m\u001b[0m\n",
      "\u001b[1;32mC:\\Anaconda2\\lib\\site-packages\\openmdao\\solvers\\run_once.pyc\u001b[0m in \u001b[0;36msolve\u001b[1;34m(self, params, unknowns, resids, system, metadata)\u001b[0m\n\u001b[0;32m     49\u001b[0m         \u001b[0mupdate_local_meta\u001b[0m\u001b[1;33m(\u001b[0m\u001b[0mlocal_meta\u001b[0m\u001b[1;33m,\u001b[0m \u001b[1;33m(\u001b[0m\u001b[0mself\u001b[0m\u001b[1;33m.\u001b[0m\u001b[0miter_count\u001b[0m\u001b[1;33m,\u001b[0m\u001b[1;33m)\u001b[0m\u001b[1;33m)\u001b[0m\u001b[1;33m\u001b[0m\u001b[0m\n\u001b[0;32m     50\u001b[0m \u001b[1;33m\u001b[0m\u001b[0m\n\u001b[1;32m---> 51\u001b[1;33m         \u001b[0msystem\u001b[0m\u001b[1;33m.\u001b[0m\u001b[0mchildren_solve_nonlinear\u001b[0m\u001b[1;33m(\u001b[0m\u001b[0mlocal_meta\u001b[0m\u001b[1;33m)\u001b[0m\u001b[1;33m\u001b[0m\u001b[0m\n\u001b[0m\u001b[0;32m     52\u001b[0m         \u001b[0mself\u001b[0m\u001b[1;33m.\u001b[0m\u001b[0mrecorders\u001b[0m\u001b[1;33m.\u001b[0m\u001b[0mrecord_iteration\u001b[0m\u001b[1;33m(\u001b[0m\u001b[0msystem\u001b[0m\u001b[1;33m,\u001b[0m \u001b[0mlocal_meta\u001b[0m\u001b[1;33m)\u001b[0m\u001b[1;33m\u001b[0m\u001b[0m\n",
      "\u001b[1;32mC:\\Anaconda2\\lib\\site-packages\\openmdao\\core\\group.pyc\u001b[0m in \u001b[0;36mchildren_solve_nonlinear\u001b[1;34m(self, metadata)\u001b[0m\n\u001b[0;32m    757\u001b[0m                         \u001b[0msub\u001b[0m\u001b[1;33m.\u001b[0m\u001b[0m_sys_solve_nonlinear\u001b[0m\u001b[1;33m(\u001b[0m\u001b[0msub\u001b[0m\u001b[1;33m.\u001b[0m\u001b[0mparams\u001b[0m\u001b[1;33m,\u001b[0m \u001b[0msub\u001b[0m\u001b[1;33m.\u001b[0m\u001b[0munknowns\u001b[0m\u001b[1;33m,\u001b[0m \u001b[0msub\u001b[0m\u001b[1;33m.\u001b[0m\u001b[0mresids\u001b[0m\u001b[1;33m)\u001b[0m\u001b[1;33m\u001b[0m\u001b[0m\n\u001b[0;32m    758\u001b[0m                     \u001b[1;32melse\u001b[0m\u001b[1;33m:\u001b[0m\u001b[1;33m\u001b[0m\u001b[0m\n\u001b[1;32m--> 759\u001b[1;33m                         \u001b[0msub\u001b[0m\u001b[1;33m.\u001b[0m\u001b[0msolve_nonlinear\u001b[0m\u001b[1;33m(\u001b[0m\u001b[0msub\u001b[0m\u001b[1;33m.\u001b[0m\u001b[0mparams\u001b[0m\u001b[1;33m,\u001b[0m \u001b[0msub\u001b[0m\u001b[1;33m.\u001b[0m\u001b[0munknowns\u001b[0m\u001b[1;33m,\u001b[0m \u001b[0msub\u001b[0m\u001b[1;33m.\u001b[0m\u001b[0mresids\u001b[0m\u001b[1;33m,\u001b[0m \u001b[0mmetadata\u001b[0m\u001b[1;33m)\u001b[0m\u001b[1;33m\u001b[0m\u001b[0m\n\u001b[0m\u001b[0;32m    760\u001b[0m \u001b[1;33m\u001b[0m\u001b[0m\n\u001b[0;32m    761\u001b[0m     \u001b[1;32mdef\u001b[0m \u001b[0m_sys_apply_nonlinear\u001b[0m\u001b[1;33m(\u001b[0m\u001b[0mself\u001b[0m\u001b[1;33m,\u001b[0m \u001b[0mparams\u001b[0m\u001b[1;33m,\u001b[0m \u001b[0munknowns\u001b[0m\u001b[1;33m,\u001b[0m \u001b[0mresids\u001b[0m\u001b[1;33m,\u001b[0m \u001b[0mmetadata\u001b[0m\u001b[1;33m=\u001b[0m\u001b[0mNone\u001b[0m\u001b[1;33m)\u001b[0m\u001b[1;33m:\u001b[0m\u001b[1;33m\u001b[0m\u001b[0m\n",
      "\u001b[1;32mC:\\Anaconda2\\lib\\site-packages\\openmdao\\core\\group.pyc\u001b[0m in \u001b[0;36msolve_nonlinear\u001b[1;34m(self, params, unknowns, resids, metadata)\u001b[0m\n\u001b[0;32m    737\u001b[0m             \u001b[0mresids\u001b[0m \u001b[1;33m=\u001b[0m \u001b[0mresids\u001b[0m \u001b[1;32mif\u001b[0m \u001b[0mresids\u001b[0m \u001b[1;32mis\u001b[0m \u001b[1;32mnot\u001b[0m \u001b[0mNone\u001b[0m \u001b[1;32melse\u001b[0m \u001b[0mself\u001b[0m\u001b[1;33m.\u001b[0m\u001b[0mresids\u001b[0m\u001b[1;33m\u001b[0m\u001b[0m\n\u001b[0;32m    738\u001b[0m \u001b[1;33m\u001b[0m\u001b[0m\n\u001b[1;32m--> 739\u001b[1;33m             \u001b[0mself\u001b[0m\u001b[1;33m.\u001b[0m\u001b[0mnl_solver\u001b[0m\u001b[1;33m.\u001b[0m\u001b[0msolve\u001b[0m\u001b[1;33m(\u001b[0m\u001b[0mparams\u001b[0m\u001b[1;33m,\u001b[0m \u001b[0munknowns\u001b[0m\u001b[1;33m,\u001b[0m \u001b[0mresids\u001b[0m\u001b[1;33m,\u001b[0m \u001b[0mself\u001b[0m\u001b[1;33m,\u001b[0m \u001b[0mmetadata\u001b[0m\u001b[1;33m)\u001b[0m\u001b[1;33m\u001b[0m\u001b[0m\n\u001b[0m\u001b[0;32m    740\u001b[0m \u001b[1;33m\u001b[0m\u001b[0m\n\u001b[0;32m    741\u001b[0m     \u001b[1;32mdef\u001b[0m \u001b[0mchildren_solve_nonlinear\u001b[0m\u001b[1;33m(\u001b[0m\u001b[0mself\u001b[0m\u001b[1;33m,\u001b[0m \u001b[0mmetadata\u001b[0m\u001b[1;33m)\u001b[0m\u001b[1;33m:\u001b[0m\u001b[1;33m\u001b[0m\u001b[0m\n",
      "\u001b[1;32mC:\\Anaconda2\\lib\\site-packages\\openmdao\\solvers\\solver_base.pyc\u001b[0m in \u001b[0;36mwrapper\u001b[1;34m(driver, params, unknowns, resids, system, metadata)\u001b[0m\n\u001b[0;32m     21\u001b[0m \u001b[1;33m\u001b[0m\u001b[0m\n\u001b[0;32m     22\u001b[0m         \u001b[1;32mtry\u001b[0m\u001b[1;33m:\u001b[0m\u001b[1;33m\u001b[0m\u001b[0m\n\u001b[1;32m---> 23\u001b[1;33m             \u001b[0mfn\u001b[0m\u001b[1;33m(\u001b[0m\u001b[0mdriver\u001b[0m\u001b[1;33m,\u001b[0m \u001b[0mparams\u001b[0m\u001b[1;33m,\u001b[0m \u001b[0munknowns\u001b[0m\u001b[1;33m,\u001b[0m \u001b[0mresids\u001b[0m\u001b[1;33m,\u001b[0m \u001b[0msystem\u001b[0m\u001b[1;33m,\u001b[0m \u001b[0mmetadata\u001b[0m\u001b[1;33m)\u001b[0m\u001b[1;33m\u001b[0m\u001b[0m\n\u001b[0m\u001b[0;32m     24\u001b[0m         \u001b[1;32mexcept\u001b[0m \u001b[0mFloatingPointError\u001b[0m \u001b[1;32mas\u001b[0m \u001b[0merr\u001b[0m\u001b[1;33m:\u001b[0m\u001b[1;33m\u001b[0m\u001b[0m\n\u001b[0;32m     25\u001b[0m             \u001b[0mexc_info\u001b[0m \u001b[1;33m=\u001b[0m \u001b[0msys\u001b[0m\u001b[1;33m.\u001b[0m\u001b[0mexc_info\u001b[0m\u001b[1;33m(\u001b[0m\u001b[1;33m)\u001b[0m\u001b[1;33m\u001b[0m\u001b[0m\n",
      "\u001b[1;32mD:\\a.iacono\\Documents\\Tutorial\\Main\\aerostructures\\solvers\\nl_gauss_seidel.pyc\u001b[0m in \u001b[0;36msolve\u001b[1;34m(self, params, unknowns, resids, system, metadata)\u001b[0m\n\u001b[0;32m    166\u001b[0m \u001b[1;33m\u001b[0m\u001b[0m\n\u001b[0;32m    167\u001b[0m             \u001b[1;31m# Evaluate Norm\u001b[0m\u001b[1;33m\u001b[0m\u001b[1;33m\u001b[0m\u001b[0m\n\u001b[1;32m--> 168\u001b[1;33m             \u001b[0msystem\u001b[0m\u001b[1;33m.\u001b[0m\u001b[0mapply_nonlinear\u001b[0m\u001b[1;33m(\u001b[0m\u001b[0mparams\u001b[0m\u001b[1;33m,\u001b[0m \u001b[0munknowns\u001b[0m\u001b[1;33m,\u001b[0m \u001b[0mresids\u001b[0m\u001b[1;33m)\u001b[0m\u001b[1;33m\u001b[0m\u001b[0m\n\u001b[0m\u001b[0;32m    169\u001b[0m             \u001b[0mnormval\u001b[0m \u001b[1;33m=\u001b[0m \u001b[0mresids\u001b[0m\u001b[1;33m.\u001b[0m\u001b[0mnorm\u001b[0m\u001b[1;33m(\u001b[0m\u001b[1;33m)\u001b[0m\u001b[1;33m\u001b[0m\u001b[0m\n\u001b[0;32m    170\u001b[0m             \u001b[0mu_norm\u001b[0m \u001b[1;33m=\u001b[0m \u001b[0mnp\u001b[0m\u001b[1;33m.\u001b[0m\u001b[0mlinalg\u001b[0m\u001b[1;33m.\u001b[0m\u001b[0mnorm\u001b[0m\u001b[1;33m(\u001b[0m\u001b[0munknowns\u001b[0m\u001b[1;33m.\u001b[0m\u001b[0mvec\u001b[0m \u001b[1;33m-\u001b[0m \u001b[0munknowns_cache\u001b[0m\u001b[1;33m)\u001b[0m\u001b[1;33m\u001b[0m\u001b[0m\n",
      "\u001b[1;32mC:\\Anaconda2\\lib\\site-packages\\openmdao\\core\\group.pyc\u001b[0m in \u001b[0;36mapply_nonlinear\u001b[1;34m(self, params, unknowns, resids, metadata)\u001b[0m\n\u001b[0;32m    814\u001b[0m             \u001b[1;32mif\u001b[0m \u001b[0msub\u001b[0m\u001b[1;33m.\u001b[0m\u001b[0mis_active\u001b[0m\u001b[1;33m(\u001b[0m\u001b[1;33m)\u001b[0m\u001b[1;33m:\u001b[0m\u001b[1;33m\u001b[0m\u001b[0m\n\u001b[0;32m    815\u001b[0m                 \u001b[1;32mif\u001b[0m \u001b[0misinstance\u001b[0m\u001b[1;33m(\u001b[0m\u001b[0msub\u001b[0m\u001b[1;33m,\u001b[0m \u001b[0mComponent\u001b[0m\u001b[1;33m)\u001b[0m\u001b[1;33m:\u001b[0m\u001b[1;33m\u001b[0m\u001b[0m\n\u001b[1;32m--> 816\u001b[1;33m                     \u001b[0msub\u001b[0m\u001b[1;33m.\u001b[0m\u001b[0m_sys_apply_nonlinear\u001b[0m\u001b[1;33m(\u001b[0m\u001b[0msub\u001b[0m\u001b[1;33m.\u001b[0m\u001b[0mparams\u001b[0m\u001b[1;33m,\u001b[0m \u001b[0msub\u001b[0m\u001b[1;33m.\u001b[0m\u001b[0munknowns\u001b[0m\u001b[1;33m,\u001b[0m \u001b[0msub\u001b[0m\u001b[1;33m.\u001b[0m\u001b[0mresids\u001b[0m\u001b[1;33m)\u001b[0m\u001b[1;33m\u001b[0m\u001b[0m\n\u001b[0m\u001b[0;32m    817\u001b[0m                 \u001b[1;32melse\u001b[0m\u001b[1;33m:\u001b[0m\u001b[1;33m\u001b[0m\u001b[0m\n\u001b[0;32m    818\u001b[0m                     \u001b[0msub\u001b[0m\u001b[1;33m.\u001b[0m\u001b[0mapply_nonlinear\u001b[0m\u001b[1;33m(\u001b[0m\u001b[0msub\u001b[0m\u001b[1;33m.\u001b[0m\u001b[0mparams\u001b[0m\u001b[1;33m,\u001b[0m \u001b[0msub\u001b[0m\u001b[1;33m.\u001b[0m\u001b[0munknowns\u001b[0m\u001b[1;33m,\u001b[0m \u001b[0msub\u001b[0m\u001b[1;33m.\u001b[0m\u001b[0mresids\u001b[0m\u001b[1;33m,\u001b[0m \u001b[0mmetadata\u001b[0m\u001b[1;33m)\u001b[0m\u001b[1;33m\u001b[0m\u001b[0m\n",
      "\u001b[1;32mC:\\Anaconda2\\lib\\site-packages\\openmdao\\core\\component.pyc\u001b[0m in \u001b[0;36m_sys_apply_nonlinear\u001b[1;34m(self, params, unknowns, resids)\u001b[0m\n\u001b[0;32m    549\u001b[0m             \u001b[1;33m`\u001b[0m\u001b[0mVecWrapper\u001b[0m\u001b[1;33m`\u001b[0m \u001b[0mcontaining\u001b[0m \u001b[0mresiduals\u001b[0m\u001b[1;33m.\u001b[0m \u001b[1;33m(\u001b[0m\u001b[0mr\u001b[0m\u001b[1;33m)\u001b[0m\u001b[1;33m\u001b[0m\u001b[0m\n\u001b[0;32m    550\u001b[0m         \"\"\"\n\u001b[1;32m--> 551\u001b[1;33m         \u001b[0mself\u001b[0m\u001b[1;33m.\u001b[0m\u001b[0mapply_nonlinear\u001b[0m\u001b[1;33m(\u001b[0m\u001b[0mparams\u001b[0m\u001b[1;33m,\u001b[0m \u001b[0munknowns\u001b[0m\u001b[1;33m,\u001b[0m \u001b[0mresids\u001b[0m\u001b[1;33m)\u001b[0m\u001b[1;33m\u001b[0m\u001b[0m\n\u001b[0m\u001b[0;32m    552\u001b[0m         \u001b[0mresids\u001b[0m\u001b[1;33m.\u001b[0m\u001b[0m_scale_values\u001b[0m\u001b[1;33m(\u001b[0m\u001b[1;33m)\u001b[0m\u001b[1;33m\u001b[0m\u001b[0m\n\u001b[0;32m    553\u001b[0m \u001b[1;33m\u001b[0m\u001b[0m\n",
      "\u001b[1;32mC:\\Anaconda2\\lib\\site-packages\\openmdao\\core\\component.pyc\u001b[0m in \u001b[0;36mapply_nonlinear\u001b[1;34m(self, params, unknowns, resids)\u001b[0m\n\u001b[0;32m    584\u001b[0m         \u001b[0mresids\u001b[0m\u001b[1;33m.\u001b[0m\u001b[0mvec\u001b[0m\u001b[1;33m[\u001b[0m\u001b[1;33m:\u001b[0m\u001b[1;33m]\u001b[0m \u001b[1;33m=\u001b[0m \u001b[1;33m-\u001b[0m\u001b[0munknowns\u001b[0m\u001b[1;33m.\u001b[0m\u001b[0mvec\u001b[0m\u001b[1;33m\u001b[0m\u001b[0m\n\u001b[0;32m    585\u001b[0m \u001b[1;33m\u001b[0m\u001b[0m\n\u001b[1;32m--> 586\u001b[1;33m         \u001b[0mself\u001b[0m\u001b[1;33m.\u001b[0m\u001b[0m_sys_solve_nonlinear\u001b[0m\u001b[1;33m(\u001b[0m\u001b[0mparams\u001b[0m\u001b[1;33m,\u001b[0m \u001b[0munknowns\u001b[0m\u001b[1;33m,\u001b[0m \u001b[0mresids\u001b[0m\u001b[1;33m)\u001b[0m\u001b[1;33m\u001b[0m\u001b[0m\n\u001b[0m\u001b[0;32m    587\u001b[0m \u001b[1;33m\u001b[0m\u001b[0m\n\u001b[0;32m    588\u001b[0m         \u001b[1;31m# Unknowns are restored to the old values too. apply_nonlinear does\u001b[0m\u001b[1;33m\u001b[0m\u001b[1;33m\u001b[0m\u001b[0m\n",
      "\u001b[1;32mC:\\Anaconda2\\lib\\site-packages\\openmdao\\core\\component.pyc\u001b[0m in \u001b[0;36m_sys_solve_nonlinear\u001b[1;34m(self, params, unknowns, resids)\u001b[0m\n\u001b[0;32m    607\u001b[0m             \u001b[1;33m`\u001b[0m\u001b[0mVecWrapper\u001b[0m\u001b[1;33m`\u001b[0m \u001b[0mcontaining\u001b[0m \u001b[0mresiduals\u001b[0m\u001b[1;33m.\u001b[0m \u001b[1;33m(\u001b[0m\u001b[0mr\u001b[0m\u001b[1;33m)\u001b[0m\u001b[1;33m\u001b[0m\u001b[0m\n\u001b[0;32m    608\u001b[0m         \"\"\"\n\u001b[1;32m--> 609\u001b[1;33m         \u001b[0mself\u001b[0m\u001b[1;33m.\u001b[0m\u001b[0msolve_nonlinear\u001b[0m\u001b[1;33m(\u001b[0m\u001b[0mparams\u001b[0m\u001b[1;33m,\u001b[0m \u001b[0munknowns\u001b[0m\u001b[1;33m,\u001b[0m \u001b[0mresids\u001b[0m\u001b[1;33m)\u001b[0m\u001b[1;33m\u001b[0m\u001b[0m\n\u001b[0m\u001b[0;32m    610\u001b[0m         \u001b[0munknowns\u001b[0m\u001b[1;33m.\u001b[0m\u001b[0m_scale_values\u001b[0m\u001b[1;33m(\u001b[0m\u001b[1;33m)\u001b[0m\u001b[1;33m\u001b[0m\u001b[0m\n\u001b[0;32m    611\u001b[0m \u001b[1;33m\u001b[0m\u001b[0m\n",
      "\u001b[1;32mD:\\a.iacono\\Documents\\Tutorial\\Main\\aerostructures\\aerodynamics\\panair.pyc\u001b[0m in \u001b[0;36msolve_nonlinear\u001b[1;34m(self, params, unknowns, resids)\u001b[0m\n\u001b[0;32m    111\u001b[0m \u001b[1;33m\u001b[0m\u001b[0m\n\u001b[0;32m    112\u001b[0m         \u001b[1;31m# Parent solve_nonlinear function actually runs the external code\u001b[0m\u001b[1;33m\u001b[0m\u001b[1;33m\u001b[0m\u001b[0m\n\u001b[1;32m--> 113\u001b[1;33m         \u001b[0msuper\u001b[0m\u001b[1;33m(\u001b[0m\u001b[0mPanair\u001b[0m\u001b[1;33m,\u001b[0m \u001b[0mself\u001b[0m\u001b[1;33m)\u001b[0m\u001b[1;33m.\u001b[0m\u001b[0msolve_nonlinear\u001b[0m\u001b[1;33m(\u001b[0m\u001b[0mparams\u001b[0m\u001b[1;33m,\u001b[0m \u001b[0munknowns\u001b[0m\u001b[1;33m,\u001b[0m \u001b[0mresids\u001b[0m\u001b[1;33m)\u001b[0m\u001b[1;33m\u001b[0m\u001b[0m\n\u001b[0m\u001b[0;32m    114\u001b[0m \u001b[1;33m\u001b[0m\u001b[0m\n\u001b[0;32m    115\u001b[0m         \u001b[1;31m#Get output data from the Panair output file\u001b[0m\u001b[1;33m\u001b[0m\u001b[1;33m\u001b[0m\u001b[0m\n",
      "\u001b[1;32mC:\\Anaconda2\\lib\\site-packages\\openmdao\\components\\external_code.pyc\u001b[0m in \u001b[0;36msolve_nonlinear\u001b[1;34m(self, params, unknowns, resids)\u001b[0m\n\u001b[0;32m    150\u001b[0m                 raise err_class(\"The following input files are missing: %s\"\n\u001b[0;32m    151\u001b[0m                                 % sorted(missing))\n\u001b[1;32m--> 152\u001b[1;33m             \u001b[0mreturn_code\u001b[0m\u001b[1;33m,\u001b[0m \u001b[0merror_msg\u001b[0m \u001b[1;33m=\u001b[0m \u001b[0mself\u001b[0m\u001b[1;33m.\u001b[0m\u001b[0m_execute_local\u001b[0m\u001b[1;33m(\u001b[0m\u001b[1;33m)\u001b[0m\u001b[1;33m\u001b[0m\u001b[0m\n\u001b[0m\u001b[0;32m    153\u001b[0m \u001b[1;33m\u001b[0m\u001b[0m\n\u001b[0;32m    154\u001b[0m             \u001b[1;32mif\u001b[0m \u001b[0mreturn_code\u001b[0m \u001b[1;32mis\u001b[0m \u001b[0mNone\u001b[0m\u001b[1;33m:\u001b[0m\u001b[1;33m\u001b[0m\u001b[0m\n",
      "\u001b[1;32mC:\\Anaconda2\\lib\\site-packages\\openmdao\\components\\external_code.pyc\u001b[0m in \u001b[0;36m_execute_local\u001b[1;34m(self)\u001b[0m\n\u001b[0;32m    209\u001b[0m         \u001b[1;32mtry\u001b[0m\u001b[1;33m:\u001b[0m\u001b[1;33m\u001b[0m\u001b[0m\n\u001b[0;32m    210\u001b[0m             \u001b[0mreturn_code\u001b[0m\u001b[1;33m,\u001b[0m \u001b[0merror_msg\u001b[0m \u001b[1;33m=\u001b[0m\u001b[0;31m \u001b[0m\u001b[0;31m\\\u001b[0m\u001b[1;33m\u001b[0m\u001b[0m\n\u001b[1;32m--> 211\u001b[1;33m                 \u001b[0mself\u001b[0m\u001b[1;33m.\u001b[0m\u001b[0m_process\u001b[0m\u001b[1;33m.\u001b[0m\u001b[0mwait\u001b[0m\u001b[1;33m(\u001b[0m\u001b[0mself\u001b[0m\u001b[1;33m.\u001b[0m\u001b[0moptions\u001b[0m\u001b[1;33m[\u001b[0m\u001b[1;34m'poll_delay'\u001b[0m\u001b[1;33m]\u001b[0m\u001b[1;33m,\u001b[0m \u001b[0mself\u001b[0m\u001b[1;33m.\u001b[0m\u001b[0moptions\u001b[0m\u001b[1;33m[\u001b[0m\u001b[1;34m'timeout'\u001b[0m\u001b[1;33m]\u001b[0m\u001b[1;33m)\u001b[0m\u001b[1;33m\u001b[0m\u001b[0m\n\u001b[0m\u001b[0;32m    212\u001b[0m         \u001b[1;32mfinally\u001b[0m\u001b[1;33m:\u001b[0m\u001b[1;33m\u001b[0m\u001b[0m\n\u001b[0;32m    213\u001b[0m             \u001b[0mself\u001b[0m\u001b[1;33m.\u001b[0m\u001b[0m_process\u001b[0m\u001b[1;33m.\u001b[0m\u001b[0mclose_files\u001b[0m\u001b[1;33m(\u001b[0m\u001b[1;33m)\u001b[0m\u001b[1;33m\u001b[0m\u001b[0m\n",
      "\u001b[1;32mC:\\Anaconda2\\lib\\site-packages\\openmdao\\util\\shell_proc.pyc\u001b[0m in \u001b[0;36mwait\u001b[1;34m(self, poll_delay, timeout)\u001b[0m\n\u001b[0;32m    145\u001b[0m                     \u001b[0mself\u001b[0m\u001b[1;33m.\u001b[0m\u001b[0mterminate\u001b[0m\u001b[1;33m(\u001b[0m\u001b[1;33m)\u001b[0m\u001b[1;33m\u001b[0m\u001b[0m\n\u001b[0;32m    146\u001b[0m                     \u001b[1;32mbreak\u001b[0m\u001b[1;33m\u001b[0m\u001b[0m\n\u001b[1;32m--> 147\u001b[1;33m                 \u001b[0mtime\u001b[0m\u001b[1;33m.\u001b[0m\u001b[0msleep\u001b[0m\u001b[1;33m(\u001b[0m\u001b[0mpoll_delay\u001b[0m\u001b[1;33m)\u001b[0m\u001b[1;33m\u001b[0m\u001b[0m\n\u001b[0m\u001b[0;32m    148\u001b[0m                 \u001b[0mreturn_code\u001b[0m \u001b[1;33m=\u001b[0m \u001b[0mself\u001b[0m\u001b[1;33m.\u001b[0m\u001b[0mpoll\u001b[0m\u001b[1;33m(\u001b[0m\u001b[1;33m)\u001b[0m\u001b[1;33m\u001b[0m\u001b[0m\n\u001b[0;32m    149\u001b[0m         \u001b[1;32mfinally\u001b[0m\u001b[1;33m:\u001b[0m\u001b[1;33m\u001b[0m\u001b[0m\n",
      "\u001b[1;31mKeyboardInterrupt\u001b[0m: "
     ]
    }
   ],
   "source": [
    "    top.setup()\n",
    "    \n",
    "    view_tree(top, show_browser=False)\n",
    "    \n",
    "    top.run()\n",
    "    top.cleanup()"
   ]
  },
  {
   "cell_type": "markdown",
   "metadata": {},
   "source": [
    "### Access to the Results"
   ]
  },
  {
   "cell_type": "markdown",
   "metadata": {},
   "source": [
    "As output in the console there is the last value for the angle of attack and for the vector of thickness.\n",
    "\n",
    "To see how the variables change until the process You have to access at the database created from the recorder modules.\n",
    "To read it you should use a pyhton script, in the guide relative to how access result ( link da mettere) there is an example of reader script that produce some plots relative to the optimization process."
   ]
  }
 ],
 "metadata": {
  "anaconda-cloud": {},
  "kernelspec": {
   "display_name": "Python [Anaconda2]",
   "language": "python",
   "name": "Python [Anaconda2]"
  },
  "language_info": {
   "codemirror_mode": {
    "name": "ipython",
    "version": 2
   },
   "file_extension": ".py",
   "mimetype": "text/x-python",
   "name": "python",
   "nbconvert_exporter": "python",
   "pygments_lexer": "ipython2",
   "version": "2.7.11"
  }
 },
 "nbformat": 4,
 "nbformat_minor": 2
}
